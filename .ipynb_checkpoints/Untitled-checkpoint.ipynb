{
 "cells": [
  {
   "cell_type": "code",
   "execution_count": 2,
   "metadata": {},
   "outputs": [
    {
     "name": "stdout",
     "output_type": "stream",
     "text": [
      "quihubos\n"
     ]
    }
   ],
   "source": [
    "print(\"quihubos\")"
   ]
  },
  {
   "cell_type": "code",
   "execution_count": 8,
   "metadata": {},
   "outputs": [
    {
     "name": "stdout",
     "output_type": "stream",
     "text": [
      "Por favor ingrese su edad: 15\n",
      "No puede tomar cerveza\n"
     ]
    }
   ],
   "source": [
    "edad = int(input(\"Por favor ingrese su edad: \"))\n",
    "if edad >= 18:\n",
    "        print(\"Puede tomar cerveza\")\n",
    "else:\n",
    "        print(\"No puede tomar cerveza\")"
   ]
  },
  {
   "cell_type": "code",
   "execution_count": 15,
   "metadata": {},
   "outputs": [
    {
     "name": "stdout",
     "output_type": "stream",
     "text": [
      "Ingrese la marca: AGUilA\n",
      "Compro aguila\n"
     ]
    }
   ],
   "source": [
    "marca = input(\"Ingrese la marca: \").lower() #LOWER se utiliza para pasar la informacion a minusculas\n",
    "if marca == \"budweiser\":\n",
    "        print(\"Compro\", marca)\n",
    "elif marca == \"aguila\":\n",
    "        print(\"Compro\", marca)\n",
    "else:\n",
    "        print(\"No compro nada\")"
   ]
  },
  {
   "cell_type": "code",
   "execution_count": 16,
   "metadata": {},
   "outputs": [
    {
     "name": "stdout",
     "output_type": "stream",
     "text": [
      "Girar en la carrera 9\n"
     ]
    }
   ],
   "source": [
    "giro = \"carrera 9\"\n",
    "if giro == \"carrera 9\":\n",
    "        print(\"Girar en la\", giro)\n",
    "if giro == \"carrera 10\":\n",
    "        print(\"Girar en la\", giro)\n",
    "if giro == \"carrera 11\":\n",
    "        print(\"Girar en la\", giro)"
   ]
  },
  {
   "cell_type": "code",
   "execution_count": 23,
   "metadata": {},
   "outputs": [
    {
     "name": "stdout",
     "output_type": "stream",
     "text": [
      "Ingrese el numero A: 8\n",
      "Ingrese el numero B: 9\n",
      "Ingrese la operacion: -\n",
      "-1.0\n"
     ]
    }
   ],
   "source": [
    "a = float(input(\"Ingrese el numero A: \"))\n",
    "b = float(input(\"Ingrese el numero B: \"))\n",
    "opc = input(\"Ingrese la operacion: \")\n",
    "\n",
    "if opc == '+':\n",
    "        c = a + b\n",
    "        print(c)\n",
    "if opc == '-':\n",
    "        c = a - b\n",
    "        print(c)\n",
    "if opc == '*':\n",
    "        c = a * b\n",
    "        print(c)\n",
    "if opc == '/':\n",
    "        if b != 0:\n",
    "                c = a / b\n",
    "                print(c)\n",
    "        else:\n",
    "                print(\"error\")"
   ]
  },
  {
   "cell_type": "code",
   "execution_count": 36,
   "metadata": {},
   "outputs": [],
   "source": [
    "def ejercicio1_1():\n",
    "    edad = int(input(\"Por favor ingrese su edad: \"))\n",
    "    if edad >= 18:\n",
    "            return \"Puede tomar cerveza\"\n",
    "    else:\n",
    "            return \"No puede tomar cerveza\""
   ]
  },
  {
   "cell_type": "code",
   "execution_count": 37,
   "metadata": {},
   "outputs": [
    {
     "name": "stdout",
     "output_type": "stream",
     "text": [
      "Por favor ingrese su edad: 16\n",
      "No puede tomar cerveza\n"
     ]
    }
   ],
   "source": [
    "print(ejercicio1_1())"
   ]
  },
  {
   "cell_type": "code",
   "execution_count": 38,
   "metadata": {},
   "outputs": [],
   "source": [
    "def ejercicio1_2(edad : int):\n",
    "    edad = int(input(\"Por favor ingrese su edad: \"))\n",
    "    if edad >= 18:\n",
    "            return \"Puede tomar cerveza\"\n",
    "    else:\n",
    "            return \"No puede tomar cerveza\""
   ]
  },
  {
   "cell_type": "code",
   "execution_count": 39,
   "metadata": {},
   "outputs": [
    {
     "name": "stdout",
     "output_type": "stream",
     "text": [
      "Por favor ingrese su edad: 20\n",
      "Puede tomar cerveza\n"
     ]
    }
   ],
   "source": [
    "print(ejercicio1_2(18))"
   ]
  },
  {
   "cell_type": "code",
   "execution_count": null,
   "metadata": {},
   "outputs": [],
   "source": []
  }
 ],
 "metadata": {
  "kernelspec": {
   "display_name": "Python 3",
   "language": "python",
   "name": "python3"
  },
  "language_info": {
   "codemirror_mode": {
    "name": "ipython",
    "version": 3
   },
   "file_extension": ".py",
   "mimetype": "text/x-python",
   "name": "python",
   "nbconvert_exporter": "python",
   "pygments_lexer": "ipython3",
   "version": "3.8.3"
  }
 },
 "nbformat": 4,
 "nbformat_minor": 4
}
